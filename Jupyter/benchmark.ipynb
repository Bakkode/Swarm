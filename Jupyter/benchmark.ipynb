{
 "cells": [
  {
   "cell_type": "code",
   "execution_count": 2,
   "metadata": {},
   "outputs": [
    {
     "name": "stdout",
     "output_type": "stream",
     "text": [
      "Resulting array after addition:\n"
     ]
    }
   ],
   "source": [
    "\n",
    "print(\"Resulting array after addition:\")"
   ]
  },
  {
   "cell_type": "code",
   "execution_count": 5,
   "metadata": {},
   "outputs": [
    {
     "name": "stdout",
     "output_type": "stream",
     "text": [
      "Elapsed time for creating numpy_array1: 4.962983 seconds\n",
      "Elapsed time for calculation: 39.967232 seconds\n",
      "0.0\n",
      "0.0\n",
      "0.0\n",
      "0.0\n"
     ]
    }
   ],
   "source": [
    "import numpy as np\n",
    "import time\n",
    "\n",
    "# Create an empty list to store values\n",
    "values = []\n",
    "\n",
    "# Loop from 0 to 100,000\n",
    "start_time = time.time()\n",
    "for i in range(1, 5000001): \n",
    "    ii = 1000.0 / i\n",
    "\n",
    "    for j in range(0, 8): \n",
    "        values.append(ii + j)\n",
    "\n",
    "num = np.array(values, dtype=np.float32)\n",
    "elapsedInit = time.time() - start_time\n",
    "print(f\"Elapsed time for creating numpy_array1: {elapsedInit:.6f} seconds\")\n",
    "\n",
    "calculateStart = time.time()\n",
    "for j in range(0, 100): \n",
    "\n",
    "    group3XY = num * num * 3\n",
    "    group5x = num * 5\n",
    "    group7y = num * 7\n",
    "\n",
    "    group3XY -= group5x\n",
    "    group3XY += group7y\n",
    "\n",
    "    group6y = num * 6\n",
    "    group4x = num * 4\n",
    "\n",
    "    group4x -= group6y\n",
    "\n",
    "    groupEx = num * 2.71828\n",
    "    groupPIy = num * 3.14159\n",
    "\n",
    "    groupEx -= groupPIy\n",
    "    groupEx += 8\n",
    "\n",
    "    groupEx /= 3\n",
    "\n",
    "    group4x += groupEx\n",
    "\n",
    "    num = group3XY / group4x\n",
    "\n",
    "elapsed_time = time.time() - calculateStart\n",
    "\n",
    "\n",
    "print(f\"Elapsed time for calculation: {elapsed_time:.6f} seconds\")\n",
    "\n",
    "print(num[0])\n",
    "print(num[1])\n",
    "print(num[2])\n",
    "print(num[3])"
   ]
  }
 ],
 "metadata": {
  "kernelspec": {
   "display_name": "Python 3 (ipykernel)",
   "language": "python",
   "name": "python3"
  },
  "language_info": {
   "codemirror_mode": {
    "name": "ipython",
    "version": 3
   },
   "file_extension": ".py",
   "mimetype": "text/x-python",
   "name": "python",
   "nbconvert_exporter": "python",
   "pygments_lexer": "ipython3",
   "version": "3.11.0rc1"
  }
 },
 "nbformat": 4,
 "nbformat_minor": 2
}
